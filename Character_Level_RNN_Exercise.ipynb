{
 "cells": [
  {
   "cell_type": "markdown",
   "metadata": {},
   "source": [
    "# Character-Level LSTM in PyTorch\n",
    "\n",
    "In this notebook, I'll construct a character-level LSTM with PyTorch. The network will train character by character on some text, then generate new text character by character. As an example, I will train on Anna Karenina. **This model will be able to generate new text based on the text from the book!**\n",
    "\n",
    "This network is based off of Andrej Karpathy's [post on RNNs](http://karpathy.github.io/2015/05/21/rnn-effectiveness/) and [implementation in Torch](https://github.com/karpathy/char-rnn). Below is the general architecture of the character-wise RNN.\n",
    "\n",
    "<img src=\"assets/charseq.jpeg\" width=\"500\">"
   ]
  },
  {
   "cell_type": "markdown",
   "metadata": {},
   "source": [
    "First let's load in our required resources for data loading and model creation."
   ]
  },
  {
   "cell_type": "code",
   "execution_count": 1,
   "metadata": {
    "tags": []
   },
   "outputs": [],
   "source": [
    "import numpy as np\n",
    "import torch\n",
    "from torch import nn\n",
    "import torch.nn.functional as F"
   ]
  },
  {
   "cell_type": "markdown",
   "metadata": {},
   "source": [
    "## Load in Data\n",
    "\n",
    "Then, we'll load the Anna Karenina text file and convert it into integers for our network to use. "
   ]
  },
  {
   "cell_type": "code",
   "execution_count": 2,
   "metadata": {
    "tags": []
   },
   "outputs": [],
   "source": [
    "# open text file and read in data as `text`\n",
    "with open('data/anna.txt', 'r') as f:\n",
    "    text = f.read()"
   ]
  },
  {
   "cell_type": "markdown",
   "metadata": {},
   "source": [
    "Let's check out the first 100 characters, make sure everything is peachy. According to the [American Book Review](http://americanbookreview.org/100bestlines.asp), this is the 6th best first line of a book ever."
   ]
  },
  {
   "cell_type": "code",
   "execution_count": 3,
   "metadata": {
    "tags": []
   },
   "outputs": [
    {
     "data": {
      "text/plain": [
       "'Chapter 1\\n\\n\\nHappy families are all alike; every unhappy family is unhappy in its own\\nway.\\n\\nEverythin'"
      ]
     },
     "execution_count": 3,
     "metadata": {},
     "output_type": "execute_result"
    }
   ],
   "source": [
    "text[:100]"
   ]
  },
  {
   "cell_type": "markdown",
   "metadata": {},
   "source": [
    "### Tokenization\n",
    "\n",
    "In the cells, below, I'm creating a couple **dictionaries** to convert the characters to and from integers. Encoding the characters as integers makes it easier to use as input in the network."
   ]
  },
  {
   "cell_type": "code",
   "execution_count": 4,
   "metadata": {
    "tags": []
   },
   "outputs": [],
   "source": [
    "# encode the text and map each character to an integer and vice versa\n",
    "\n",
    "# we create two dictionaries:\n",
    "# 1. int2char, which maps integers to characters\n",
    "# 2. char2int, which maps characters to unique integers\n",
    "chars = tuple(set(text))\n",
    "int2char = dict(enumerate(chars))\n",
    "char2int = {ch: ii for ii, ch in int2char.items()}\n",
    "# encode the text\n",
    "encoded = np.array([char2int[ch] for ch in text])"
   ]
  },
  {
   "cell_type": "markdown",
   "metadata": {},
   "source": [
    "And we can see those same characters from above, encoded as integers."
   ]
  },
  {
   "cell_type": "code",
   "execution_count": 5,
   "metadata": {
    "tags": []
   },
   "outputs": [
    {
     "data": {
      "text/plain": [
       "array([24, 74, 57, 78, 48, 34, 79, 59, 37, 77, 77, 77, 68, 57, 78, 78, 38,\n",
       "       59, 19, 57, 31, 42, 28, 42, 34, 81, 59, 57, 79, 34, 59, 57, 28, 28,\n",
       "       59, 57, 28, 42, 30, 34, 71, 59, 34,  5, 34, 79, 38, 59, 73, 29, 74,\n",
       "       57, 78, 78, 38, 59, 19, 57, 31, 42, 28, 38, 59, 42, 81, 59, 73, 29,\n",
       "       74, 57, 78, 78, 38, 59, 42, 29, 59, 42, 48, 81, 59, 39, 20, 29, 77,\n",
       "       20, 57, 38, 50, 77, 77, 18,  5, 34, 79, 38, 48, 74, 42, 29])"
      ]
     },
     "execution_count": 5,
     "metadata": {},
     "output_type": "execute_result"
    }
   ],
   "source": [
    "encoded[:100]"
   ]
  },
  {
   "cell_type": "markdown",
   "metadata": {},
   "source": [
    "## Pre-processing the data\n",
    "\n",
    "As you can see in our char-RNN image above, our LSTM expects an input that is **one-hot encoded** meaning that each character is converted into an integer (via our created dictionary) and *then* converted into a column vector where only it's corresponding integer index will have the value of 1 and the rest of the vector will be filled with 0's. Since we're one-hot encoding the data, let's make a function to do that!\n"
   ]
  },
  {
   "cell_type": "code",
   "execution_count": 6,
   "metadata": {
    "tags": []
   },
   "outputs": [],
   "source": [
    "def one_hot_encode(arr, n_labels):\n",
    "    # Initialize the encoded array\n",
    "    one_hot = np.zeros((arr.size, n_labels), dtype=np.float32)\n",
    "    # Fill the appropriate elements with ones\n",
    "    one_hot[np.arange(one_hot.shape[0]), arr.flatten()] = 1.\n",
    "    \n",
    "    # Finally reshape it to get back to the original array\n",
    "    one_hot = one_hot.reshape((*arr.shape, n_labels))\n",
    "    \n",
    "    return one_hot"
   ]
  },
  {
   "cell_type": "code",
   "execution_count": 7,
   "metadata": {
    "tags": []
   },
   "outputs": [
    {
     "name": "stdout",
     "output_type": "stream",
     "text": [
      "[[[0. 0. 0. 1. 0. 0. 0. 0.]\n",
      "  [0. 0. 0. 0. 0. 1. 0. 0.]\n",
      "  [0. 1. 0. 0. 0. 0. 0. 0.]]]\n"
     ]
    }
   ],
   "source": [
    "# check that the function works as expected\n",
    "test_seq = np.array([[3, 5, 1]])\n",
    "one_hot = one_hot_encode(test_seq, 8)\n",
    "\n",
    "print(one_hot)"
   ]
  },
  {
   "cell_type": "markdown",
   "metadata": {},
   "source": [
    "## Making training mini-batches\n",
    "\n",
    "\n",
    "To train on this data, we also want to create mini-batches for training. Remember that we want our batches to be multiple sequences of some desired number of sequence steps. Considering a simple example, our batches would look like this:\n",
    "\n",
    "<img src=\"assets/sequence_batching@1x.png\" width=500px>\n",
    "\n",
    "\n",
    "<br>\n",
    "\n",
    "In this example, we'll take the encoded characters (passed in as the `arr` parameter) and split them into multiple sequences, given by `batch_size`. Each of our sequences will be `seq_length` long.\n",
    "\n",
    "### Creating Batches\n",
    "\n",
    "**1. The first thing we need to do is discard some of the text so we only have completely full mini-batches. **\n",
    "\n",
    "Each batch contains $N \\times M$ characters, where $N$ is the batch size (the number of sequences in a batch) and $M$ is the seq_length or number of time steps in a sequence. Then, to get the total number of batches, $K$, that we can make from the array `arr`, you divide the length of `arr` by the number of characters per batch. Once you know the number of batches, you can get the total number of characters to keep from `arr`, $N * M * K$.\n",
    "\n",
    "**2. After that, we need to split `arr` into $N$ batches. ** \n",
    "\n",
    "You can do this using `arr.reshape(size)` where `size` is a tuple containing the dimensions sizes of the reshaped array. We know we want $N$ sequences in a batch, so let's make that the size of the first dimension. For the second dimension, you can use `-1` as a placeholder in the size, it'll fill up the array with the appropriate data for you. After this, you should have an array that is $N \\times (M * K)$.\n",
    "\n",
    "**3. Now that we have this array, we can iterate through it to get our mini-batches. **\n",
    "\n",
    "The idea is each batch is a $N \\times M$ window on the $N \\times (M * K)$ array. For each subsequent batch, the window moves over by `seq_length`. We also want to create both the input and target arrays. Remember that the targets are just the inputs shifted over by one character. The way I like to do this window is use `range` to take steps of size `n_steps` from $0$ to `arr.shape[1]`, the total number of tokens in each sequence. That way, the integers you get from `range` always point to the start of a batch, and each window is `seq_length` wide.\n",
    "\n",
    "> **TODO:** Write the code for creating batches in the function below. The exercises in this notebook _will not be easy_. I've provided a notebook with solutions alongside this notebook. If you get stuck, checkout the solutions. The most important thing is that you don't copy and paste the code into here, **type out the solution code yourself.**"
   ]
  },
  {
   "cell_type": "code",
   "execution_count": 8,
   "metadata": {
    "tags": []
   },
   "outputs": [],
   "source": [
    "def get_batches(arr, batch_size, seq_length):\n",
    "    '''Create a generator that returns batches of size\n",
    "       batch_size x seq_length from arr.\n",
    "       \n",
    "       Arguments\n",
    "       ---------\n",
    "       arr: Array you want to make batches from\n",
    "       batch_size: Batch size, the number of sequences per batch\n",
    "       seq_length: Number of encoded chars in a sequence\n",
    "    '''\n",
    "    \n",
    "    ## TODO: Get the number of batches we can make\n",
    "    n_batches = len(arr)//(batch_size*seq_length)\n",
    "    \n",
    "    ## TODO: Keep only enough characters to make full batches\n",
    "    arr = arr[:n_batches*batch_size*seq_length]\n",
    "    \n",
    "    ## TODO: Reshape into batch_size rows\n",
    "    arr = arr.reshape(batch_size,-1)\n",
    "    \n",
    "    ## TODO: Iterate over the batches using a window of size seq_length\n",
    "    for n in range(0, arr.shape[1], seq_length):\n",
    "        # The features\n",
    "        x = arr[:,n:n+seq_length]\n",
    "        # The targets, shifted by one\n",
    "        y = np.zeros_like(x)\n",
    "        try:\n",
    "            y[:,:-1],y[:,-1] = x[:,1:],arr[:,n+seq_length]\n",
    "        except:\n",
    "            y[:,:-1],y[:,-1] = x[:,1:],arr[:,0]\n",
    "        yield x, y"
   ]
  },
  {
   "cell_type": "markdown",
   "metadata": {},
   "source": [
    "### Test Your Implementation\n",
    "\n",
    "Now I'll make some data sets and we can check out what's going on as we batch data. Here, as an example, I'm going to use a batch size of 8 and 50 sequence steps."
   ]
  },
  {
   "cell_type": "code",
   "execution_count": 9,
   "metadata": {
    "tags": []
   },
   "outputs": [],
   "source": [
    "batches = get_batches(encoded, 8, 50)\n",
    "x, y = next(batches)"
   ]
  },
  {
   "cell_type": "code",
   "execution_count": 10,
   "metadata": {
    "tags": []
   },
   "outputs": [
    {
     "name": "stdout",
     "output_type": "stream",
     "text": [
      "x\n",
      " [[24 74 57 78 48 34 79 59 37 77]\n",
      " [81 39 29 59 48 74 57 48 59 57]\n",
      " [34 29 51 59 39 79 59 57 59 19]\n",
      " [81 59 48 74 34 59 21 74 42 34]\n",
      " [59 81 57 20 59 74 34 79 59 48]\n",
      " [21 73 81 81 42 39 29 59 57 29]\n",
      " [59  2 29 29 57 59 74 57 51 59]\n",
      " [33 27 28 39 29 81 30 38 50 59]]\n",
      "\n",
      "y\n",
      " [[74 57 78 48 34 79 59 37 77 77]\n",
      " [39 29 59 48 74 57 48 59 57 48]\n",
      " [29 51 59 39 79 59 57 59 19 39]\n",
      " [59 48 74 34 59 21 74 42 34 19]\n",
      " [81 57 20 59 74 34 79 59 48 34]\n",
      " [73 81 81 42 39 29 59 57 29 51]\n",
      " [ 2 29 29 57 59 74 57 51 59 81]\n",
      " [27 28 39 29 81 30 38 50 59 17]]\n"
     ]
    }
   ],
   "source": [
    "# printing out the first 10 items in a sequence\n",
    "print('x\\n', x[:10, :10])\n",
    "print('\\ny\\n', y[:10, :10])"
   ]
  },
  {
   "cell_type": "markdown",
   "metadata": {},
   "source": [
    "If you implemented `get_batches` correctly, the above output should look something like \n",
    "```\n",
    "x\n",
    " [[25  8 60 11 45 27 28 73  1  2]\n",
    " [17  7 20 73 45  8 60 45 73 60]\n",
    " [27 20 80 73  7 28 73 60 73 65]\n",
    " [17 73 45  8 27 73 66  8 46 27]\n",
    " [73 17 60 12 73  8 27 28 73 45]\n",
    " [66 64 17 17 46  7 20 73 60 20]\n",
    " [73 76 20 20 60 73  8 60 80 73]\n",
    " [47 35 43  7 20 17 24 50 37 73]]\n",
    "\n",
    "y\n",
    " [[ 8 60 11 45 27 28 73  1  2  2]\n",
    " [ 7 20 73 45  8 60 45 73 60 45]\n",
    " [20 80 73  7 28 73 60 73 65  7]\n",
    " [73 45  8 27 73 66  8 46 27 65]\n",
    " [17 60 12 73  8 27 28 73 45 27]\n",
    " [64 17 17 46  7 20 73 60 20 80]\n",
    " [76 20 20 60 73  8 60 80 73 17]\n",
    " [35 43  7 20 17 24 50 37 73 36]]\n",
    " ```\n",
    " although the exact numbers may be different. Check to make sure the data is shifted over one step for `y`."
   ]
  },
  {
   "cell_type": "markdown",
   "metadata": {},
   "source": [
    "---\n",
    "## Defining the network with PyTorch\n",
    "\n",
    "Below is where you'll define the network.\n",
    "\n",
    "<img src=\"assets/charRNN.png\" width=500px>\n",
    "\n",
    "Next, you'll use PyTorch to define the architecture of the network. We start by defining the layers and operations we want. Then, define a method for the forward pass. You've also been given a method for predicting characters."
   ]
  },
  {
   "cell_type": "markdown",
   "metadata": {},
   "source": [
    "### Model Structure\n",
    "\n",
    "In `__init__` the suggested structure is as follows:\n",
    "* Create and store the necessary dictionaries (this has been done for you)\n",
    "* Define an LSTM layer that takes as params: an input size (the number of characters), a hidden layer size `n_hidden`, a number of layers `n_layers`, a dropout probability `drop_prob`, and a batch_first boolean (True, since we are batching)\n",
    "* Define a dropout layer with `drop_prob`\n",
    "* Define a fully-connected layer with params: input size `n_hidden` and output size (the number of characters)\n",
    "* Finally, initialize the weights (again, this has been given)\n",
    "\n",
    "Note that some parameters have been named and given in the `__init__` function, and we use them and store them by doing something like `self.drop_prob = drop_prob`."
   ]
  },
  {
   "cell_type": "markdown",
   "metadata": {},
   "source": [
    "---\n",
    "### LSTM Inputs/Outputs\n",
    "\n",
    "You can create a basic [LSTM layer](https://pytorch.org/docs/stable/nn.html#lstm) as follows\n",
    "\n",
    "```python\n",
    "self.lstm = nn.LSTM(input_size, n_hidden, n_layers, \n",
    "                            dropout=drop_prob, batch_first=True)\n",
    "```\n",
    "\n",
    "where `input_size` is the number of characters this cell expects to see as sequential input, and `n_hidden` is the number of units in the hidden layers in the cell. And we can add dropout by adding a dropout parameter with a specified probability; this will automatically add dropout to the inputs or outputs. Finally, in the `forward` function, we can stack up the LSTM cells into layers using `.view`. With this, you pass in a list of cells and it will send the output of one cell into the next cell.\n",
    "\n",
    "We also need to create an initial hidden state of all zeros. This is done like so\n",
    "\n",
    "```python\n",
    "self.init_hidden()\n",
    "```"
   ]
  },
  {
   "cell_type": "code",
   "execution_count": 11,
   "metadata": {
    "tags": []
   },
   "outputs": [
    {
     "name": "stdout",
     "output_type": "stream",
     "text": [
      "Training on GPU!\n"
     ]
    }
   ],
   "source": [
    "# check if GPU is available\n",
    "train_on_gpu = torch.cuda.is_available()\n",
    "if(train_on_gpu):\n",
    "    print('Training on GPU!')\n",
    "else: \n",
    "    print('No GPU available, training on CPU; consider making n_epochs very small.')\n"
   ]
  },
  {
   "cell_type": "code",
   "execution_count": 12,
   "metadata": {
    "tags": []
   },
   "outputs": [],
   "source": [
    "class CharRNN(nn.Module):\n",
    "    \n",
    "    def __init__(self, tokens, n_hidden=256, n_layers=2,\n",
    "                               drop_prob=0.5, lr=0.001):\n",
    "        super().__init__()\n",
    "        self.drop_prob = drop_prob\n",
    "        self.n_layers = n_layers\n",
    "        self.n_hidden = n_hidden\n",
    "        self.lr = lr\n",
    "        \n",
    "        # creating character dictionaries\n",
    "        self.chars = tokens\n",
    "        self.int2char = dict(enumerate(self.chars))\n",
    "        self.char2int = {ch: ii for ii, ch in self.int2char.items()}\n",
    "        \n",
    "        ## TODO: define the layers of the model\n",
    "        self.l1 = nn.LSTM(len(self.chars),n_hidden,n_layers,dropout=drop_prob,batch_first=True)\n",
    "        self.drop = nn.Dropout(drop_prob)\n",
    "        self.f1 = nn.Linear(n_hidden,len(self.chars))\n",
    "    def forward(self, x, hidden):\n",
    "        ''' Forward pass through the network. \n",
    "            These inputs are x, and the hidden/cell state `hidden`. '''\n",
    "                \n",
    "        ## TODO: Get the outputs and the new hidden state from the lstm\n",
    "        out,hidden =  self.l1(x,hidden)\n",
    "        out = self.drop(out)\n",
    "       \n",
    "        # Stack up LSTM outputs using view\n",
    "        # you may need to use contiguous to reshape the output\n",
    "        out = out.contiguous().view(-1, self.n_hidden)\n",
    "        \n",
    "        out = self.f1(out)\n",
    "        # return the final output and the hidden state\n",
    "        return out, hidden\n",
    "    \n",
    "    \n",
    "    def init_hidden(self, batch_size):\n",
    "        ''' Initializes hidden state '''\n",
    "        # Create two new tensors with sizes n_layers x batch_size x n_hidden,\n",
    "        # initialized to zero, for hidden state and cell state of LSTM\n",
    "        weight = next(self.parameters()).data\n",
    "        \n",
    "        if (train_on_gpu):\n",
    "            hidden = (weight.new(self.n_layers, batch_size, self.n_hidden).zero_().cuda(),\n",
    "                  weight.new(self.n_layers, batch_size, self.n_hidden).zero_().cuda())\n",
    "        else:\n",
    "            hidden = (weight.new(self.n_layers, batch_size, self.n_hidden).zero_(),\n",
    "                      weight.new(self.n_layers, batch_size, self.n_hidden).zero_())\n",
    "        \n",
    "        return hidden\n",
    "        "
   ]
  },
  {
   "cell_type": "markdown",
   "metadata": {},
   "source": [
    "## Time to train\n",
    "\n",
    "The train function gives us the ability to set the number of epochs, the learning rate, and other parameters.\n",
    "\n",
    "Below we're using an Adam optimizer and cross entropy loss since we are looking at character class scores as output. We calculate the loss and perform backpropagation, as usual!\n",
    "\n",
    "A couple of details about training: \n",
    ">* Within the batch loop, we detach the hidden state from its history; this time setting it equal to a new *tuple* variable because an LSTM has a hidden state that is a tuple of the hidden and cell states.\n",
    "* We use [`clip_grad_norm_`](https://pytorch.org/docs/stable/_modules/torch/nn/utils/clip_grad.html) to help prevent exploding gradients."
   ]
  },
  {
   "cell_type": "code",
   "execution_count": 13,
   "metadata": {
    "tags": []
   },
   "outputs": [],
   "source": [
    "def train(net, data, epochs=10, batch_size=10, seq_length=50, lr=0.001, clip=5, val_frac=0.1, print_every=10):\n",
    "    ''' Training a network \n",
    "    \n",
    "        Arguments\n",
    "        ---------\n",
    "        \n",
    "        net: CharRNN network\n",
    "        data: text data to train the network\n",
    "        epochs: Number of epochs to train\n",
    "        batch_size: Number of mini-sequences per mini-batch, aka batch size\n",
    "        seq_length: Number of character steps per mini-batch\n",
    "        lr: learning rate\n",
    "        clip: gradient clipping\n",
    "        val_frac: Fraction of data to hold out for validation\n",
    "        print_every: Number of steps for printing training and validation loss\n",
    "    \n",
    "    '''\n",
    "    net.train()\n",
    "    \n",
    "    opt = torch.optim.Adam(net.parameters(), lr=lr)\n",
    "    criterion = nn.CrossEntropyLoss()\n",
    "    \n",
    "    # create training and validation data\n",
    "    val_idx = int(len(data)*(1-val_frac))\n",
    "    data, val_data = data[:val_idx], data[val_idx:]\n",
    "    \n",
    "    if(train_on_gpu):\n",
    "        net.cuda()\n",
    "    \n",
    "    counter = 0\n",
    "    n_chars = len(net.chars)\n",
    "    for e in range(epochs):\n",
    "        # initialize hidden state\n",
    "        h = net.init_hidden(batch_size)\n",
    "        \n",
    "        for x, y in get_batches(data, batch_size, seq_length):\n",
    "            counter += 1\n",
    "            \n",
    "            # One-hot encode our data and make them Torch tensors\n",
    "            x = one_hot_encode(x, n_chars)\n",
    "            inputs, targets = torch.from_numpy(x), torch.from_numpy(y)\n",
    "            \n",
    "            if(train_on_gpu):\n",
    "                inputs, targets = inputs.cuda(), targets.cuda()\n",
    "\n",
    "            # Creating new variables for the hidden state, otherwise\n",
    "            # we'd backprop through the entire training history\n",
    "            h = tuple([each.data for each in h])\n",
    "\n",
    "            # zero accumulated gradients\n",
    "            net.zero_grad()\n",
    "            \n",
    "            # get the output from the model\n",
    "            output, h = net(inputs, h)\n",
    "            \n",
    "            # calculate the loss and perform backprop\n",
    "            loss = criterion(output, targets.view(batch_size*seq_length).long())\n",
    "            loss.backward()\n",
    "            # `clip_grad_norm` helps prevent the exploding gradient problem in RNNs / LSTMs.\n",
    "            nn.utils.clip_grad_norm_(net.parameters(), clip)\n",
    "            opt.step()\n",
    "            \n",
    "            # loss stats\n",
    "            if counter % print_every == 0:\n",
    "                # Get validation loss\n",
    "                val_h = net.init_hidden(batch_size)\n",
    "                val_losses = []\n",
    "                net.eval()\n",
    "                for x, y in get_batches(val_data, batch_size, seq_length):\n",
    "                    # One-hot encode our data and make them Torch tensors\n",
    "                    x = one_hot_encode(x, n_chars)\n",
    "                    x, y = torch.from_numpy(x), torch.from_numpy(y)\n",
    "                    \n",
    "                    # Creating new variables for the hidden state, otherwise\n",
    "                    # we'd backprop through the entire training history\n",
    "                    val_h = tuple([each.data for each in val_h])\n",
    "                    \n",
    "                    inputs, targets = x, y\n",
    "                    if(train_on_gpu):\n",
    "                        inputs, targets = inputs.cuda(), targets.cuda()\n",
    "\n",
    "                    output, val_h = net(inputs, val_h)\n",
    "                    val_loss = criterion(output, targets.view(batch_size*seq_length).long())\n",
    "                \n",
    "                    val_losses.append(val_loss.item())\n",
    "                \n",
    "                net.train() # reset to train mode after iterationg through validation data\n",
    "                \n",
    "                print(\"Epoch: {}/{}...\".format(e+1, epochs),\n",
    "                      \"Step: {}...\".format(counter),\n",
    "                      \"Loss: {:.4f}...\".format(loss.item()),\n",
    "                      \"Val Loss: {:.4f}\".format(np.mean(val_losses)))"
   ]
  },
  {
   "cell_type": "markdown",
   "metadata": {},
   "source": [
    "## Instantiating the model\n",
    "\n",
    "Now we can actually train the network. First we'll create the network itself, with some given hyperparameters. Then, define the mini-batches sizes, and start training!"
   ]
  },
  {
   "cell_type": "code",
   "execution_count": 14,
   "metadata": {
    "tags": []
   },
   "outputs": [
    {
     "name": "stdout",
     "output_type": "stream",
     "text": [
      "CharRNN(\n",
      "  (l1): LSTM(83, 512, num_layers=2, batch_first=True, dropout=0.5)\n",
      "  (drop): Dropout(p=0.5, inplace=False)\n",
      "  (f1): Linear(in_features=512, out_features=83, bias=True)\n",
      ")\n"
     ]
    }
   ],
   "source": [
    "## TODO: set your model hyperparameters\n",
    "# define and print the net\n",
    "n_hidden=512\n",
    "n_layers=2\n",
    "\n",
    "net = CharRNN(chars, n_hidden, n_layers)\n",
    "print(net)"
   ]
  },
  {
   "cell_type": "markdown",
   "metadata": {},
   "source": [
    "### Set your training hyperparameters!"
   ]
  },
  {
   "cell_type": "code",
   "execution_count": 15,
   "metadata": {
    "scrolled": true,
    "tags": []
   },
   "outputs": [
    {
     "name": "stdout",
     "output_type": "stream",
     "text": [
      "Epoch: 1/20... Step: 10... Loss: 3.2867... Val Loss: 3.2337\n",
      "Epoch: 1/20... Step: 20... Loss: 3.1637... Val Loss: 3.1432\n",
      "Epoch: 1/20... Step: 30... Loss: 3.1514... Val Loss: 3.1271\n",
      "Epoch: 1/20... Step: 40... Loss: 3.1183... Val Loss: 3.1195\n",
      "Epoch: 1/20... Step: 50... Loss: 3.1410... Val Loss: 3.1178\n",
      "Epoch: 1/20... Step: 60... Loss: 3.1224... Val Loss: 3.1155\n",
      "Epoch: 1/20... Step: 70... Loss: 3.1056... Val Loss: 3.1131\n",
      "Epoch: 1/20... Step: 80... Loss: 3.1211... Val Loss: 3.1076\n",
      "Epoch: 1/20... Step: 90... Loss: 3.1105... Val Loss: 3.0917\n",
      "Epoch: 1/20... Step: 100... Loss: 3.0716... Val Loss: 3.0554\n",
      "Epoch: 1/20... Step: 110... Loss: 2.9926... Val Loss: 2.9640\n",
      "Epoch: 1/20... Step: 120... Loss: 2.8798... Val Loss: 2.8716\n",
      "Epoch: 1/20... Step: 130... Loss: 2.8822... Val Loss: 2.8167\n",
      "Epoch: 2/20... Step: 140... Loss: 2.7698... Val Loss: 2.7223\n",
      "Epoch: 2/20... Step: 150... Loss: 2.6688... Val Loss: 2.6138\n",
      "Epoch: 2/20... Step: 160... Loss: 2.5874... Val Loss: 2.5454\n",
      "Epoch: 2/20... Step: 170... Loss: 2.5149... Val Loss: 2.4984\n",
      "Epoch: 2/20... Step: 180... Loss: 2.4859... Val Loss: 2.4622\n",
      "Epoch: 2/20... Step: 190... Loss: 2.4334... Val Loss: 2.4268\n",
      "Epoch: 2/20... Step: 200... Loss: 2.4238... Val Loss: 2.3990\n",
      "Epoch: 2/20... Step: 210... Loss: 2.3916... Val Loss: 2.3736\n",
      "Epoch: 2/20... Step: 220... Loss: 2.3615... Val Loss: 2.3411\n",
      "Epoch: 2/20... Step: 230... Loss: 2.3502... Val Loss: 2.3155\n",
      "Epoch: 2/20... Step: 240... Loss: 2.3298... Val Loss: 2.2953\n",
      "Epoch: 2/20... Step: 250... Loss: 2.2601... Val Loss: 2.2645\n",
      "Epoch: 2/20... Step: 260... Loss: 2.2376... Val Loss: 2.2394\n",
      "Epoch: 2/20... Step: 270... Loss: 2.2414... Val Loss: 2.2491\n",
      "Epoch: 3/20... Step: 280... Loss: 2.2367... Val Loss: 2.1914\n",
      "Epoch: 3/20... Step: 290... Loss: 2.2067... Val Loss: 2.1654\n",
      "Epoch: 3/20... Step: 300... Loss: 2.1775... Val Loss: 2.1409\n",
      "Epoch: 3/20... Step: 310... Loss: 2.1493... Val Loss: 2.1234\n",
      "Epoch: 3/20... Step: 320... Loss: 2.1150... Val Loss: 2.0982\n",
      "Epoch: 3/20... Step: 330... Loss: 2.0793... Val Loss: 2.0820\n",
      "Epoch: 3/20... Step: 340... Loss: 2.1069... Val Loss: 2.0585\n",
      "Epoch: 3/20... Step: 350... Loss: 2.0787... Val Loss: 2.0423\n",
      "Epoch: 3/20... Step: 360... Loss: 2.0147... Val Loss: 2.0226\n",
      "Epoch: 3/20... Step: 370... Loss: 2.0408... Val Loss: 2.0052\n",
      "Epoch: 3/20... Step: 380... Loss: 2.0190... Val Loss: 1.9835\n",
      "Epoch: 3/20... Step: 390... Loss: 1.9936... Val Loss: 1.9710\n",
      "Epoch: 3/20... Step: 400... Loss: 1.9550... Val Loss: 1.9547\n",
      "Epoch: 3/20... Step: 410... Loss: 1.9696... Val Loss: 1.9385\n",
      "Epoch: 4/20... Step: 420... Loss: 1.9588... Val Loss: 1.9219\n",
      "Epoch: 4/20... Step: 430... Loss: 1.9419... Val Loss: 1.9062\n",
      "Epoch: 4/20... Step: 440... Loss: 1.9274... Val Loss: 1.8929\n",
      "Epoch: 4/20... Step: 450... Loss: 1.8612... Val Loss: 1.8793\n",
      "Epoch: 4/20... Step: 460... Loss: 1.8456... Val Loss: 1.8685\n",
      "Epoch: 4/20... Step: 470... Loss: 1.8890... Val Loss: 1.8592\n",
      "Epoch: 4/20... Step: 480... Loss: 1.8609... Val Loss: 1.8445\n",
      "Epoch: 4/20... Step: 490... Loss: 1.8687... Val Loss: 1.8282\n",
      "Epoch: 4/20... Step: 500... Loss: 1.8566... Val Loss: 1.8150\n",
      "Epoch: 4/20... Step: 510... Loss: 1.8332... Val Loss: 1.8053\n",
      "Epoch: 4/20... Step: 520... Loss: 1.8459... Val Loss: 1.7983\n",
      "Epoch: 4/20... Step: 530... Loss: 1.8000... Val Loss: 1.7839\n",
      "Epoch: 4/20... Step: 540... Loss: 1.7677... Val Loss: 1.7726\n",
      "Epoch: 4/20... Step: 550... Loss: 1.8160... Val Loss: 1.7590\n",
      "Epoch: 5/20... Step: 560... Loss: 1.7745... Val Loss: 1.7543\n",
      "Epoch: 5/20... Step: 570... Loss: 1.7550... Val Loss: 1.7442\n",
      "Epoch: 5/20... Step: 580... Loss: 1.7492... Val Loss: 1.7308\n",
      "Epoch: 5/20... Step: 590... Loss: 1.7462... Val Loss: 1.7226\n",
      "Epoch: 5/20... Step: 600... Loss: 1.7262... Val Loss: 1.7160\n",
      "Epoch: 5/20... Step: 610... Loss: 1.7103... Val Loss: 1.7151\n",
      "Epoch: 5/20... Step: 620... Loss: 1.7231... Val Loss: 1.7035\n",
      "Epoch: 5/20... Step: 630... Loss: 1.7372... Val Loss: 1.6948\n",
      "Epoch: 5/20... Step: 640... Loss: 1.7010... Val Loss: 1.6841\n",
      "Epoch: 5/20... Step: 650... Loss: 1.6839... Val Loss: 1.6804\n",
      "Epoch: 5/20... Step: 660... Loss: 1.6561... Val Loss: 1.6748\n",
      "Epoch: 5/20... Step: 670... Loss: 1.6841... Val Loss: 1.6684\n",
      "Epoch: 5/20... Step: 680... Loss: 1.6898... Val Loss: 1.6572\n",
      "Epoch: 5/20... Step: 690... Loss: 1.6615... Val Loss: 1.6499\n",
      "Epoch: 6/20... Step: 700... Loss: 1.6661... Val Loss: 1.6396\n",
      "Epoch: 6/20... Step: 710... Loss: 1.6495... Val Loss: 1.6351\n",
      "Epoch: 6/20... Step: 720... Loss: 1.6353... Val Loss: 1.6289\n",
      "Epoch: 6/20... Step: 730... Loss: 1.6498... Val Loss: 1.6216\n",
      "Epoch: 6/20... Step: 740... Loss: 1.6153... Val Loss: 1.6207\n",
      "Epoch: 6/20... Step: 750... Loss: 1.5977... Val Loss: 1.6165\n",
      "Epoch: 6/20... Step: 760... Loss: 1.6319... Val Loss: 1.6105\n",
      "Epoch: 6/20... Step: 770... Loss: 1.6230... Val Loss: 1.6095\n",
      "Epoch: 6/20... Step: 780... Loss: 1.5971... Val Loss: 1.5977\n",
      "Epoch: 6/20... Step: 790... Loss: 1.5891... Val Loss: 1.5922\n",
      "Epoch: 6/20... Step: 800... Loss: 1.6065... Val Loss: 1.5913\n",
      "Epoch: 6/20... Step: 810... Loss: 1.5898... Val Loss: 1.5844\n",
      "Epoch: 6/20... Step: 820... Loss: 1.5490... Val Loss: 1.5770\n",
      "Epoch: 6/20... Step: 830... Loss: 1.5992... Val Loss: 1.5725\n",
      "Epoch: 7/20... Step: 840... Loss: 1.5517... Val Loss: 1.5654\n",
      "Epoch: 7/20... Step: 850... Loss: 1.5631... Val Loss: 1.5637\n",
      "Epoch: 7/20... Step: 860... Loss: 1.5538... Val Loss: 1.5555\n",
      "Epoch: 7/20... Step: 870... Loss: 1.5643... Val Loss: 1.5503\n",
      "Epoch: 7/20... Step: 880... Loss: 1.5681... Val Loss: 1.5518\n",
      "Epoch: 7/20... Step: 890... Loss: 1.5523... Val Loss: 1.5463\n",
      "Epoch: 7/20... Step: 900... Loss: 1.5413... Val Loss: 1.5419\n",
      "Epoch: 7/20... Step: 910... Loss: 1.5138... Val Loss: 1.5364\n",
      "Epoch: 7/20... Step: 920... Loss: 1.5324... Val Loss: 1.5362\n",
      "Epoch: 7/20... Step: 930... Loss: 1.5107... Val Loss: 1.5295\n",
      "Epoch: 7/20... Step: 940... Loss: 1.5226... Val Loss: 1.5306\n",
      "Epoch: 7/20... Step: 950... Loss: 1.5341... Val Loss: 1.5223\n",
      "Epoch: 7/20... Step: 960... Loss: 1.5318... Val Loss: 1.5196\n",
      "Epoch: 7/20... Step: 970... Loss: 1.5412... Val Loss: 1.5175\n",
      "Epoch: 8/20... Step: 980... Loss: 1.5135... Val Loss: 1.5140\n",
      "Epoch: 8/20... Step: 990... Loss: 1.5171... Val Loss: 1.5082\n",
      "Epoch: 8/20... Step: 1000... Loss: 1.4990... Val Loss: 1.5010\n",
      "Epoch: 8/20... Step: 1010... Loss: 1.5402... Val Loss: 1.4981\n",
      "Epoch: 8/20... Step: 1020... Loss: 1.5137... Val Loss: 1.4975\n",
      "Epoch: 8/20... Step: 1030... Loss: 1.4891... Val Loss: 1.4945\n",
      "Epoch: 8/20... Step: 1040... Loss: 1.5084... Val Loss: 1.4942\n",
      "Epoch: 8/20... Step: 1050... Loss: 1.4761... Val Loss: 1.4912\n",
      "Epoch: 8/20... Step: 1060... Loss: 1.4859... Val Loss: 1.4879\n",
      "Epoch: 8/20... Step: 1070... Loss: 1.4951... Val Loss: 1.4807\n",
      "Epoch: 8/20... Step: 1080... Loss: 1.4727... Val Loss: 1.4802\n",
      "Epoch: 8/20... Step: 1090... Loss: 1.4705... Val Loss: 1.4760\n",
      "Epoch: 8/20... Step: 1100... Loss: 1.4632... Val Loss: 1.4747\n",
      "Epoch: 8/20... Step: 1110... Loss: 1.4715... Val Loss: 1.4722\n",
      "Epoch: 9/20... Step: 1120... Loss: 1.4724... Val Loss: 1.4671\n",
      "Epoch: 9/20... Step: 1130... Loss: 1.4722... Val Loss: 1.4652\n",
      "Epoch: 9/20... Step: 1140... Loss: 1.4657... Val Loss: 1.4586\n",
      "Epoch: 9/20... Step: 1150... Loss: 1.4820... Val Loss: 1.4587\n",
      "Epoch: 9/20... Step: 1160... Loss: 1.4327... Val Loss: 1.4570\n",
      "Epoch: 9/20... Step: 1170... Loss: 1.4508... Val Loss: 1.4555\n",
      "Epoch: 9/20... Step: 1180... Loss: 1.4404... Val Loss: 1.4538\n",
      "Epoch: 9/20... Step: 1190... Loss: 1.4696... Val Loss: 1.4533\n",
      "Epoch: 9/20... Step: 1200... Loss: 1.4273... Val Loss: 1.4488\n",
      "Epoch: 9/20... Step: 1210... Loss: 1.4372... Val Loss: 1.4423\n",
      "Epoch: 9/20... Step: 1220... Loss: 1.4385... Val Loss: 1.4461\n",
      "Epoch: 9/20... Step: 1230... Loss: 1.4152... Val Loss: 1.4385\n",
      "Epoch: 9/20... Step: 1240... Loss: 1.4303... Val Loss: 1.4382\n",
      "Epoch: 9/20... Step: 1250... Loss: 1.4242... Val Loss: 1.4370\n",
      "Epoch: 10/20... Step: 1260... Loss: 1.4432... Val Loss: 1.4323\n",
      "Epoch: 10/20... Step: 1270... Loss: 1.4261... Val Loss: 1.4292\n",
      "Epoch: 10/20... Step: 1280... Loss: 1.4499... Val Loss: 1.4234\n",
      "Epoch: 10/20... Step: 1290... Loss: 1.4290... Val Loss: 1.4247\n",
      "Epoch: 10/20... Step: 1300... Loss: 1.4117... Val Loss: 1.4247\n",
      "Epoch: 10/20... Step: 1310... Loss: 1.4155... Val Loss: 1.4209\n",
      "Epoch: 10/20... Step: 1320... Loss: 1.3906... Val Loss: 1.4222\n",
      "Epoch: 10/20... Step: 1330... Loss: 1.3997... Val Loss: 1.4227\n",
      "Epoch: 10/20... Step: 1340... Loss: 1.3779... Val Loss: 1.4155\n",
      "Epoch: 10/20... Step: 1350... Loss: 1.3824... Val Loss: 1.4133\n",
      "Epoch: 10/20... Step: 1360... Loss: 1.3838... Val Loss: 1.4167\n",
      "Epoch: 10/20... Step: 1370... Loss: 1.3803... Val Loss: 1.4119\n",
      "Epoch: 10/20... Step: 1380... Loss: 1.4158... Val Loss: 1.4077\n",
      "Epoch: 10/20... Step: 1390... Loss: 1.4247... Val Loss: 1.4102\n",
      "Epoch: 11/20... Step: 1400... Loss: 1.4286... Val Loss: 1.4018\n",
      "Epoch: 11/20... Step: 1410... Loss: 1.4420... Val Loss: 1.4013\n",
      "Epoch: 11/20... Step: 1420... Loss: 1.4227... Val Loss: 1.3967\n",
      "Epoch: 11/20... Step: 1430... Loss: 1.3900... Val Loss: 1.4042\n",
      "Epoch: 11/20... Step: 1440... Loss: 1.4145... Val Loss: 1.3990\n",
      "Epoch: 11/20... Step: 1450... Loss: 1.3440... Val Loss: 1.3976\n",
      "Epoch: 11/20... Step: 1460... Loss: 1.3730... Val Loss: 1.3944\n",
      "Epoch: 11/20... Step: 1470... Loss: 1.3629... Val Loss: 1.3973\n",
      "Epoch: 11/20... Step: 1480... Loss: 1.3789... Val Loss: 1.3915\n",
      "Epoch: 11/20... Step: 1490... Loss: 1.3770... Val Loss: 1.3886\n",
      "Epoch: 11/20... Step: 1500... Loss: 1.3679... Val Loss: 1.3935\n",
      "Epoch: 11/20... Step: 1510... Loss: 1.3458... Val Loss: 1.3900\n",
      "Epoch: 11/20... Step: 1520... Loss: 1.3744... Val Loss: 1.3859\n",
      "Epoch: 12/20... Step: 1530... Loss: 1.4362... Val Loss: 1.3804\n",
      "Epoch: 12/20... Step: 1540... Loss: 1.3719... Val Loss: 1.3791\n",
      "Epoch: 12/20... Step: 1550... Loss: 1.3975... Val Loss: 1.3777\n",
      "Epoch: 12/20... Step: 1560... Loss: 1.3975... Val Loss: 1.3715\n",
      "Epoch: 12/20... Step: 1570... Loss: 1.3541... Val Loss: 1.3806\n",
      "Epoch: 12/20... Step: 1580... Loss: 1.3212... Val Loss: 1.3750\n",
      "Epoch: 12/20... Step: 1590... Loss: 1.3217... Val Loss: 1.3826\n",
      "Epoch: 12/20... Step: 1600... Loss: 1.3500... Val Loss: 1.3768\n",
      "Epoch: 12/20... Step: 1610... Loss: 1.3382... Val Loss: 1.3798\n",
      "Epoch: 12/20... Step: 1620... Loss: 1.3370... Val Loss: 1.3688\n",
      "Epoch: 12/20... Step: 1630... Loss: 1.3678... Val Loss: 1.3716\n",
      "Epoch: 12/20... Step: 1640... Loss: 1.3373... Val Loss: 1.3710\n",
      "Epoch: 12/20... Step: 1650... Loss: 1.3159... Val Loss: 1.3699\n",
      "Epoch: 12/20... Step: 1660... Loss: 1.3669... Val Loss: 1.3676\n",
      "Epoch: 13/20... Step: 1670... Loss: 1.3341... Val Loss: 1.3663\n",
      "Epoch: 13/20... Step: 1680... Loss: 1.3514... Val Loss: 1.3596\n",
      "Epoch: 13/20... Step: 1690... Loss: 1.3328... Val Loss: 1.3607\n",
      "Epoch: 13/20... Step: 1700... Loss: 1.3304... Val Loss: 1.3553\n",
      "Epoch: 13/20... Step: 1710... Loss: 1.3158... Val Loss: 1.3620\n",
      "Epoch: 13/20... Step: 1720... Loss: 1.3172... Val Loss: 1.3614\n",
      "Epoch: 13/20... Step: 1730... Loss: 1.3471... Val Loss: 1.3588\n",
      "Epoch: 13/20... Step: 1740... Loss: 1.3257... Val Loss: 1.3564\n",
      "Epoch: 13/20... Step: 1750... Loss: 1.2953... Val Loss: 1.3602\n",
      "Epoch: 13/20... Step: 1760... Loss: 1.3193... Val Loss: 1.3575\n",
      "Epoch: 13/20... Step: 1770... Loss: 1.3421... Val Loss: 1.3545\n",
      "Epoch: 13/20... Step: 1780... Loss: 1.3148... Val Loss: 1.3513\n",
      "Epoch: 13/20... Step: 1790... Loss: 1.3016... Val Loss: 1.3504\n",
      "Epoch: 13/20... Step: 1800... Loss: 1.3323... Val Loss: 1.3517\n",
      "Epoch: 14/20... Step: 1810... Loss: 1.3314... Val Loss: 1.3569\n",
      "Epoch: 14/20... Step: 1820... Loss: 1.3089... Val Loss: 1.3443\n",
      "Epoch: 14/20... Step: 1830... Loss: 1.3381... Val Loss: 1.3432\n",
      "Epoch: 14/20... Step: 1840... Loss: 1.2829... Val Loss: 1.3435\n",
      "Epoch: 14/20... Step: 1850... Loss: 1.2728... Val Loss: 1.3427\n",
      "Epoch: 14/20... Step: 1860... Loss: 1.3319... Val Loss: 1.3453\n",
      "Epoch: 14/20... Step: 1870... Loss: 1.3316... Val Loss: 1.3415\n",
      "Epoch: 14/20... Step: 1880... Loss: 1.3126... Val Loss: 1.3435\n",
      "Epoch: 14/20... Step: 1890... Loss: 1.3426... Val Loss: 1.3480\n",
      "Epoch: 14/20... Step: 1900... Loss: 1.3113... Val Loss: 1.3373\n",
      "Epoch: 14/20... Step: 1910... Loss: 1.3032... Val Loss: 1.3393\n",
      "Epoch: 14/20... Step: 1920... Loss: 1.3035... Val Loss: 1.3391\n",
      "Epoch: 14/20... Step: 1930... Loss: 1.2764... Val Loss: 1.3328\n",
      "Epoch: 14/20... Step: 1940... Loss: 1.3278... Val Loss: 1.3363\n",
      "Epoch: 15/20... Step: 1950... Loss: 1.2960... Val Loss: 1.3418\n",
      "Epoch: 15/20... Step: 1960... Loss: 1.2916... Val Loss: 1.3265\n",
      "Epoch: 15/20... Step: 1970... Loss: 1.2963... Val Loss: 1.3271\n",
      "Epoch: 15/20... Step: 1980... Loss: 1.2850... Val Loss: 1.3311\n",
      "Epoch: 15/20... Step: 1990... Loss: 1.2831... Val Loss: 1.3287\n",
      "Epoch: 15/20... Step: 2000... Loss: 1.2664... Val Loss: 1.3289\n",
      "Epoch: 15/20... Step: 2010... Loss: 1.2883... Val Loss: 1.3269\n",
      "Epoch: 15/20... Step: 2020... Loss: 1.3126... Val Loss: 1.3271\n",
      "Epoch: 15/20... Step: 2030... Loss: 1.2771... Val Loss: 1.3290\n",
      "Epoch: 15/20... Step: 2040... Loss: 1.2878... Val Loss: 1.3183\n",
      "Epoch: 15/20... Step: 2050... Loss: 1.2689... Val Loss: 1.3229\n",
      "Epoch: 15/20... Step: 2060... Loss: 1.2917... Val Loss: 1.3189\n",
      "Epoch: 15/20... Step: 2070... Loss: 1.2971... Val Loss: 1.3135\n",
      "Epoch: 15/20... Step: 2080... Loss: 1.2881... Val Loss: 1.3164\n",
      "Epoch: 16/20... Step: 2090... Loss: 1.2968... Val Loss: 1.3185\n",
      "Epoch: 16/20... Step: 2100... Loss: 1.2721... Val Loss: 1.3131\n",
      "Epoch: 16/20... Step: 2110... Loss: 1.2645... Val Loss: 1.3104\n",
      "Epoch: 16/20... Step: 2120... Loss: 1.2810... Val Loss: 1.3110\n",
      "Epoch: 16/20... Step: 2130... Loss: 1.2491... Val Loss: 1.3119\n",
      "Epoch: 16/20... Step: 2140... Loss: 1.2555... Val Loss: 1.3111\n",
      "Epoch: 16/20... Step: 2150... Loss: 1.2941... Val Loss: 1.3121\n",
      "Epoch: 16/20... Step: 2160... Loss: 1.2668... Val Loss: 1.3088\n",
      "Epoch: 16/20... Step: 2170... Loss: 1.2689... Val Loss: 1.3128\n",
      "Epoch: 16/20... Step: 2180... Loss: 1.2619... Val Loss: 1.3057\n",
      "Epoch: 16/20... Step: 2190... Loss: 1.2817... Val Loss: 1.3051\n",
      "Epoch: 16/20... Step: 2200... Loss: 1.2519... Val Loss: 1.3050\n",
      "Epoch: 16/20... Step: 2210... Loss: 1.2308... Val Loss: 1.3015\n",
      "Epoch: 16/20... Step: 2220... Loss: 1.2723... Val Loss: 1.3026\n",
      "Epoch: 17/20... Step: 2230... Loss: 1.2478... Val Loss: 1.3097\n",
      "Epoch: 17/20... Step: 2240... Loss: 1.2495... Val Loss: 1.3000\n",
      "Epoch: 17/20... Step: 2250... Loss: 1.2363... Val Loss: 1.3003\n",
      "Epoch: 17/20... Step: 2260... Loss: 1.2537... Val Loss: 1.2980\n",
      "Epoch: 17/20... Step: 2270... Loss: 1.2540... Val Loss: 1.2989\n",
      "Epoch: 17/20... Step: 2280... Loss: 1.2616... Val Loss: 1.2957\n",
      "Epoch: 17/20... Step: 2290... Loss: 1.2645... Val Loss: 1.2983\n",
      "Epoch: 17/20... Step: 2300... Loss: 1.2238... Val Loss: 1.2954\n",
      "Epoch: 17/20... Step: 2310... Loss: 1.2486... Val Loss: 1.3011\n",
      "Epoch: 17/20... Step: 2320... Loss: 1.2356... Val Loss: 1.2952\n",
      "Epoch: 17/20... Step: 2330... Loss: 1.2358... Val Loss: 1.2925\n",
      "Epoch: 17/20... Step: 2340... Loss: 1.2504... Val Loss: 1.2913\n",
      "Epoch: 17/20... Step: 2350... Loss: 1.2540... Val Loss: 1.2894\n",
      "Epoch: 17/20... Step: 2360... Loss: 1.2619... Val Loss: 1.2898\n",
      "Epoch: 18/20... Step: 2370... Loss: 1.2372... Val Loss: 1.2936\n",
      "Epoch: 18/20... Step: 2380... Loss: 1.2487... Val Loss: 1.2918\n",
      "Epoch: 18/20... Step: 2390... Loss: 1.2405... Val Loss: 1.2934\n",
      "Epoch: 18/20... Step: 2400... Loss: 1.2587... Val Loss: 1.2882\n",
      "Epoch: 18/20... Step: 2410... Loss: 1.2558... Val Loss: 1.2868\n",
      "Epoch: 18/20... Step: 2420... Loss: 1.2312... Val Loss: 1.2892\n",
      "Epoch: 18/20... Step: 2430... Loss: 1.2430... Val Loss: 1.2899\n",
      "Epoch: 18/20... Step: 2440... Loss: 1.2366... Val Loss: 1.2891\n",
      "Epoch: 18/20... Step: 2450... Loss: 1.2196... Val Loss: 1.2877\n",
      "Epoch: 18/20... Step: 2460... Loss: 1.2435... Val Loss: 1.2876\n",
      "Epoch: 18/20... Step: 2470... Loss: 1.2367... Val Loss: 1.2868\n",
      "Epoch: 18/20... Step: 2480... Loss: 1.2151... Val Loss: 1.2849\n",
      "Epoch: 18/20... Step: 2490... Loss: 1.2090... Val Loss: 1.2821\n",
      "Epoch: 18/20... Step: 2500... Loss: 1.2230... Val Loss: 1.2831\n",
      "Epoch: 19/20... Step: 2510... Loss: 1.2317... Val Loss: 1.2873\n",
      "Epoch: 19/20... Step: 2520... Loss: 1.2376... Val Loss: 1.2814\n",
      "Epoch: 19/20... Step: 2530... Loss: 1.2374... Val Loss: 1.2855\n",
      "Epoch: 19/20... Step: 2540... Loss: 1.2504... Val Loss: 1.2801\n",
      "Epoch: 19/20... Step: 2550... Loss: 1.2208... Val Loss: 1.2834\n",
      "Epoch: 19/20... Step: 2560... Loss: 1.2258... Val Loss: 1.2806\n",
      "Epoch: 19/20... Step: 2570... Loss: 1.2134... Val Loss: 1.2831\n",
      "Epoch: 19/20... Step: 2580... Loss: 1.2443... Val Loss: 1.2807\n",
      "Epoch: 19/20... Step: 2590... Loss: 1.2096... Val Loss: 1.2890\n",
      "Epoch: 19/20... Step: 2600... Loss: 1.2195... Val Loss: 1.2838\n",
      "Epoch: 19/20... Step: 2610... Loss: 1.2195... Val Loss: 1.2864\n",
      "Epoch: 19/20... Step: 2620... Loss: 1.2051... Val Loss: 1.2749\n",
      "Epoch: 19/20... Step: 2630... Loss: 1.2078... Val Loss: 1.2749\n",
      "Epoch: 19/20... Step: 2640... Loss: 1.2232... Val Loss: 1.2753\n",
      "Epoch: 20/20... Step: 2650... Loss: 1.2206... Val Loss: 1.2774\n",
      "Epoch: 20/20... Step: 2660... Loss: 1.2298... Val Loss: 1.2742\n",
      "Epoch: 20/20... Step: 2670... Loss: 1.2309... Val Loss: 1.2760\n",
      "Epoch: 20/20... Step: 2680... Loss: 1.2239... Val Loss: 1.2740\n",
      "Epoch: 20/20... Step: 2690... Loss: 1.2041... Val Loss: 1.2719\n",
      "Epoch: 20/20... Step: 2700... Loss: 1.2165... Val Loss: 1.2718\n",
      "Epoch: 20/20... Step: 2710... Loss: 1.1952... Val Loss: 1.2828\n",
      "Epoch: 20/20... Step: 2720... Loss: 1.1841... Val Loss: 1.2804\n",
      "Epoch: 20/20... Step: 2730... Loss: 1.1867... Val Loss: 1.2721\n",
      "Epoch: 20/20... Step: 2740... Loss: 1.1944... Val Loss: 1.2709\n",
      "Epoch: 20/20... Step: 2750... Loss: 1.1992... Val Loss: 1.2740\n",
      "Epoch: 20/20... Step: 2760... Loss: 1.1863... Val Loss: 1.2750\n",
      "Epoch: 20/20... Step: 2770... Loss: 1.2215... Val Loss: 1.2679\n",
      "Epoch: 20/20... Step: 2780... Loss: 1.2463... Val Loss: 1.2702\n"
     ]
    }
   ],
   "source": [
    "batch_size = 128\n",
    "seq_length = 100\n",
    "n_epochs = 20 # start smaller if you are just testing initial behavior\n",
    "\n",
    "# train the model\n",
    "train(net, encoded, epochs=n_epochs, batch_size=batch_size, seq_length=seq_length, lr=0.001, print_every=10)"
   ]
  },
  {
   "cell_type": "markdown",
   "metadata": {},
   "source": [
    "## Getting the best model\n",
    "\n",
    "To set your hyperparameters to get the best performance, you'll want to watch the training and validation losses. If your training loss is much lower than the validation loss, you're overfitting. Increase regularization (more dropout) or use a smaller network. If the training and validation losses are close, you're underfitting so you can increase the size of the network."
   ]
  },
  {
   "cell_type": "markdown",
   "metadata": {},
   "source": [
    "## Hyperparameters\n",
    "\n",
    "Here are the hyperparameters for the network.\n",
    "\n",
    "In defining the model:\n",
    "* `n_hidden` - The number of units in the hidden layers.\n",
    "* `n_layers` - Number of hidden LSTM layers to use.\n",
    "\n",
    "We assume that dropout probability and learning rate will be kept at the default, in this example.\n",
    "\n",
    "And in training:\n",
    "* `batch_size` - Number of sequences running through the network in one pass.\n",
    "* `seq_length` - Number of characters in the sequence the network is trained on. Larger is better typically, the network will learn more long range dependencies. But it takes longer to train. 100 is typically a good number here.\n",
    "* `lr` - Learning rate for training\n",
    "\n",
    "Here's some good advice from Andrej Karpathy on training the network. I'm going to copy it in here for your benefit, but also link to [where it originally came from](https://github.com/karpathy/char-rnn#tips-and-tricks).\n",
    "\n",
    "> ## Tips and Tricks\n",
    "\n",
    ">### Monitoring Validation Loss vs. Training Loss\n",
    ">If you're somewhat new to Machine Learning or Neural Networks it can take a bit of expertise to get good models. The most important quantity to keep track of is the difference between your training loss (printed during training) and the validation loss (printed once in a while when the RNN is run on the validation data (by default every 1000 iterations)). In particular:\n",
    "\n",
    "> - If your training loss is much lower than validation loss then this means the network might be **overfitting**. Solutions to this are to decrease your network size, or to increase dropout. For example you could try dropout of 0.5 and so on.\n",
    "> - If your training/validation loss are about equal then your model is **underfitting**. Increase the size of your model (either number of layers or the raw number of neurons per layer)\n",
    "\n",
    "> ### Approximate number of parameters\n",
    "\n",
    "> The two most important parameters that control the model are `n_hidden` and `n_layers`. I would advise that you always use `n_layers` of either 2/3. The `n_hidden` can be adjusted based on how much data you have. The two important quantities to keep track of here are:\n",
    "\n",
    "> - The number of parameters in your model. This is printed when you start training.\n",
    "> - The size of your dataset. 1MB file is approximately 1 million characters.\n",
    "\n",
    ">These two should be about the same order of magnitude. It's a little tricky to tell. Here are some examples:\n",
    "\n",
    "> - I have a 100MB dataset and I'm using the default parameter settings (which currently print 150K parameters). My data size is significantly larger (100 mil >> 0.15 mil), so I expect to heavily underfit. I am thinking I can comfortably afford to make `n_hidden` larger.\n",
    "> - I have a 10MB dataset and running a 10 million parameter model. I'm slightly nervous and I'm carefully monitoring my validation loss. If it's larger than my training loss then I may want to try to increase dropout a bit and see if that helps the validation loss.\n",
    "\n",
    "> ### Best models strategy\n",
    "\n",
    ">The winning strategy to obtaining very good models (if you have the compute time) is to always err on making the network larger (as large as you're willing to wait for it to compute) and then try different dropout values (between 0,1). Whatever model has the best validation performance (the loss, written in the checkpoint filename, low is good) is the one you should use in the end.\n",
    "\n",
    ">It is very common in deep learning to run many different models with many different hyperparameter settings, and in the end take whatever checkpoint gave the best validation performance.\n",
    "\n",
    ">By the way, the size of your training and validation splits are also parameters. Make sure you have a decent amount of data in your validation set or otherwise the validation performance will be noisy and not very informative."
   ]
  },
  {
   "cell_type": "markdown",
   "metadata": {},
   "source": [
    "## Checkpoint\n",
    "\n",
    "After training, we'll save the model so we can load it again later if we need too. Here I'm saving the parameters needed to create the same architecture, the hidden layer hyperparameters and the text characters."
   ]
  },
  {
   "cell_type": "code",
   "execution_count": 16,
   "metadata": {
    "tags": []
   },
   "outputs": [],
   "source": [
    "# change the name, for saving multiple files\n",
    "model_name = 'rnn_x_epoch.net'\n",
    "\n",
    "checkpoint = {'n_hidden': net.n_hidden,\n",
    "              'n_layers': net.n_layers,\n",
    "              'state_dict': net.state_dict(),\n",
    "              'tokens': net.chars}\n",
    "\n",
    "with open(model_name, 'wb') as f:\n",
    "    torch.save(checkpoint, f)"
   ]
  },
  {
   "cell_type": "markdown",
   "metadata": {},
   "source": [
    "---\n",
    "## Making Predictions\n",
    "\n",
    "Now that the model is trained, we'll want to sample from it and make predictions about next characters! To sample, we pass in a character and have the network predict the next character. Then we take that character, pass it back in, and get another predicted character. Just keep doing this and you'll generate a bunch of text!\n",
    "\n",
    "### A note on the `predict`  function\n",
    "\n",
    "The output of our RNN is from a fully-connected layer and it outputs a **distribution of next-character scores**.\n",
    "\n",
    "> To actually get the next character, we apply a softmax function, which gives us a *probability* distribution that we can then sample to predict the next character.\n",
    "\n",
    "### Top K sampling\n",
    "\n",
    "Our predictions come from a categorical probability distribution over all the possible characters. We can make the sample text and make it more reasonable to handle (with less variables) by only considering some $K$ most probable characters. This will prevent the network from giving us completely absurd characters while allowing it to introduce some noise and randomness into the sampled text. Read more about [topk, here](https://pytorch.org/docs/stable/torch.html#torch.topk).\n"
   ]
  },
  {
   "cell_type": "code",
   "execution_count": 17,
   "metadata": {},
   "outputs": [],
   "source": [
    "def predict(net, char, h=None, top_k=None):\n",
    "        ''' Given a character, predict the next character.\n",
    "            Returns the predicted character and the hidden state.\n",
    "        '''\n",
    "        \n",
    "        # tensor inputs\n",
    "        x = np.array([[net.char2int[char]]])\n",
    "        x = one_hot_encode(x, len(net.chars))\n",
    "        inputs = torch.from_numpy(x)\n",
    "        \n",
    "        if(train_on_gpu):\n",
    "            inputs = inputs.cuda()\n",
    "        \n",
    "        # detach hidden state from history\n",
    "        h = tuple([each.data for each in h])\n",
    "        # get the output of the model\n",
    "        out, h = net(inputs, h)\n",
    "\n",
    "        # get the character probabilities\n",
    "        p = F.softmax(out, dim=1).data\n",
    "        if(train_on_gpu):\n",
    "            p = p.cpu() # move to cpu\n",
    "        \n",
    "        # get top characters\n",
    "        if top_k is None:\n",
    "            top_ch = np.arange(len(net.chars))\n",
    "        else:\n",
    "            p, top_ch = p.topk(top_k)\n",
    "            top_ch = top_ch.numpy().squeeze()\n",
    "        \n",
    "        # select the likely next character with some element of randomness\n",
    "        p = p.numpy().squeeze()\n",
    "        char = np.random.choice(top_ch, p=p/p.sum())\n",
    "        \n",
    "        # return the encoded value of the predicted char and the hidden state\n",
    "        return net.int2char[char], h"
   ]
  },
  {
   "cell_type": "markdown",
   "metadata": {},
   "source": [
    "### Priming and generating text \n",
    "\n",
    "Typically you'll want to prime the network so you can build up a hidden state. Otherwise the network will start out generating characters at random. In general the first bunch of characters will be a little rough since it hasn't built up a long history of characters to predict from."
   ]
  },
  {
   "cell_type": "code",
   "execution_count": 18,
   "metadata": {},
   "outputs": [],
   "source": [
    "def sample(net, size, prime='The', top_k=None):\n",
    "        \n",
    "    if(train_on_gpu):\n",
    "        net.cuda()\n",
    "    else:\n",
    "        net.cpu()\n",
    "    \n",
    "    net.eval() # eval mode\n",
    "    \n",
    "    # First off, run through the prime characters\n",
    "    chars = [ch for ch in prime]\n",
    "    h = net.init_hidden(1)\n",
    "    for ch in prime:\n",
    "        char, h = predict(net, ch, h, top_k=top_k)\n",
    "\n",
    "    chars.append(char)\n",
    "    \n",
    "    # Now pass in the previous character and get a new one\n",
    "    for ii in range(size):\n",
    "        char, h = predict(net, chars[-1], h, top_k=top_k)\n",
    "        chars.append(char)\n",
    "\n",
    "    return ''.join(chars)"
   ]
  },
  {
   "cell_type": "code",
   "execution_count": 19,
   "metadata": {},
   "outputs": [
    {
     "name": "stdout",
     "output_type": "stream",
     "text": [
      "Anna Alexey Alexandrovitch went,\n",
      "to her hands to his such an insideration.\n",
      "\n",
      "\"Well. And there's nother to mise a dander at the same again.\"\n",
      "\n",
      "\"Yes, the chief seconds of the countess was not before it.\"\n",
      "\n",
      "\"Well, and you want to take it!\"\n",
      "\n",
      "\"Yes, I should be not seeing his father...\"\n",
      "\n",
      "\"Well, this you, I won't be sincered,\" said Anna, smiling, wondered\n",
      "at the sume thought, and to say.\n",
      "\n",
      "\"You can't call you to\n",
      "be at all.\"\n",
      "\n",
      "Her legs there was as he had not been to be any men was\n",
      "to go to her husband. She was aware, and were to bring his fails, began\n",
      "to get it, the cattle and wife to her thoughts, with the position of\n",
      "the classical conversation, where he went to the door.\n",
      "\n",
      "The doctor would have sat down to see her.\n",
      "\n",
      "\"Well, I'm very sound of the same time the same, I'm never believe\n",
      "that I had so make it all the crising subject of anything in,\n",
      "seeing her for him, but I don't come to me, and there is it with her\n",
      "informed made home is a children.\"\n",
      "\n",
      "\"I denice. There's nothing in a straight in the world, a\n"
     ]
    }
   ],
   "source": [
    "print(sample(net, 1000, prime='Anna', top_k=5))"
   ]
  },
  {
   "cell_type": "markdown",
   "metadata": {},
   "source": [
    "## Loading a checkpoint"
   ]
  },
  {
   "cell_type": "code",
   "execution_count": 20,
   "metadata": {},
   "outputs": [
    {
     "data": {
      "text/plain": [
       "<All keys matched successfully>"
      ]
     },
     "execution_count": 20,
     "metadata": {},
     "output_type": "execute_result"
    }
   ],
   "source": [
    "# Here we have loaded in a model that trained over 20 epochs `rnn_20_epoch.net`\n",
    "with open('rnn_x_epoch.net', 'rb') as f:\n",
    "    checkpoint = torch.load(f)\n",
    "    \n",
    "loaded = CharRNN(checkpoint['tokens'], n_hidden=checkpoint['n_hidden'], n_layers=checkpoint['n_layers'])\n",
    "loaded.load_state_dict(checkpoint['state_dict'])"
   ]
  },
  {
   "cell_type": "code",
   "execution_count": 21,
   "metadata": {},
   "outputs": [
    {
     "name": "stdout",
     "output_type": "stream",
     "text": [
      "And Levin said,\n",
      "and the other seeing some camp at the stairing of a letter, and\n",
      "was starting to her.\n",
      "\n",
      "He should not help struck at the sort of the bride of a porter of\n",
      "his words that she was true the perfect more for men. His wife, to crowd\n",
      "him with his sense of the made of a mathem, and the same\n",
      "suddenly smile whree the supper or several tare, was all the conversation\n",
      "of the proposite on a precidement. He saw no senses, the studed things\n",
      "were sitting on, to talk about him to say, went about the commille, he\n",
      "went up, and went out of the part of the door to the drawing\n",
      "room. He crumpling his both and wanted on an one of his waith,\n",
      "and with a sigh for the conversation would stay, and answered\n",
      "a concilert on all her hand, who was any one of the secretary and the\n",
      "cord, when she had a corrace of that service, to take a long while she was\n",
      "asking and all to the most of the sound of the past herself of tears alous\n",
      "it\n",
      "with some position of his father at her, and that there was no\n",
      "sound of her tone of subject to a choul and disagain with to\n",
      "speak to him to her sense in the most painting to the sigtt\n",
      "of the post the triggt book or the children. The profrems of her husband\n",
      "should not hear it. After a stiffing the same talking watting\n",
      "his sister.\n",
      "\n",
      "\"The sister, I did not know this to me.\"\n",
      "\n",
      "\"No, you've been as it may. You know that I'm not taking it,\"\n",
      "said the children that was an tender of this thought, \"but\n",
      "that you had not come to time that yet, and so that they have\n",
      "not the same sins, that's not because I had not a sign of telling me to\n",
      "be difficult in the cross of him, the streng the soulds there would some\n",
      "sound that she was not seeing, that he was in his meet in that\n",
      "propased. He was thinking of the familiar secrets that sat down off\n",
      "into the country, and then the part there were nothing of the face\n",
      "with mensthich and them too,, said that as he was as to buy, taking her house\n",
      "at his his softening table. And the princess was to be so\n",
      "means to stand in any torture, the success and the party\n"
     ]
    }
   ],
   "source": [
    "# Sample using a loaded model\n",
    "print(sample(loaded, 2000, top_k=5, prime=\"And Levin said\"))"
   ]
  },
  {
   "cell_type": "code",
   "execution_count": null,
   "metadata": {
    "collapsed": true,
    "jupyter": {
     "outputs_hidden": true
    }
   },
   "outputs": [],
   "source": []
  }
 ],
 "metadata": {
  "kernelspec": {
   "display_name": "Python 3",
   "language": "python",
   "name": "python3"
  },
  "language_info": {
   "codemirror_mode": {
    "name": "ipython",
    "version": 3
   },
   "file_extension": ".py",
   "mimetype": "text/x-python",
   "name": "python",
   "nbconvert_exporter": "python",
   "pygments_lexer": "ipython3",
   "version": "3.8.3"
  }
 },
 "nbformat": 4,
 "nbformat_minor": 4
}
